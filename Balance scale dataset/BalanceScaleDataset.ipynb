{
 "cells": [
  {
   "cell_type": "code",
   "execution_count": 24,
   "metadata": {
    "collapsed": true
   },
   "outputs": [],
   "source": [
    "import pandas as pd\n",
    "import numpy as np\n",
    "from sklearn import model_selection\n",
    "import warnings\n",
    "warnings.filterwarnings(\"ignore\")"
   ]
  },
  {
   "cell_type": "code",
   "execution_count": 25,
   "metadata": {
    "collapsed": true
   },
   "outputs": [],
   "source": [
    "df = pd.read_csv(\"http://archive.ics.uci.edu/ml/machine-learning-databases/balance-scale/balance-scale.data\",names=['Class Name','Left Weight','Left Distance','Right Weight','Right Distance'], index_col=False)"
   ]
  },
  {
   "cell_type": "code",
   "execution_count": 26,
   "metadata": {
    "collapsed": true
   },
   "outputs": [],
   "source": [
    "X=df.iloc[:,1:]\n",
    "y=df.iloc[:,0]"
   ]
  },
  {
   "cell_type": "code",
   "execution_count": 27,
   "metadata": {},
   "outputs": [
    {
     "data": {
      "text/html": [
       "<div>\n",
       "<style>\n",
       "    .dataframe thead tr:only-child th {\n",
       "        text-align: right;\n",
       "    }\n",
       "\n",
       "    .dataframe thead th {\n",
       "        text-align: left;\n",
       "    }\n",
       "\n",
       "    .dataframe tbody tr th {\n",
       "        vertical-align: top;\n",
       "    }\n",
       "</style>\n",
       "<table border=\"1\" class=\"dataframe\">\n",
       "  <thead>\n",
       "    <tr style=\"text-align: right;\">\n",
       "      <th></th>\n",
       "      <th>Left Weight</th>\n",
       "      <th>Left Distance</th>\n",
       "      <th>Right Weight</th>\n",
       "      <th>Right Distance</th>\n",
       "    </tr>\n",
       "  </thead>\n",
       "  <tbody>\n",
       "    <tr>\n",
       "      <th>count</th>\n",
       "      <td>625.000000</td>\n",
       "      <td>625.000000</td>\n",
       "      <td>625.000000</td>\n",
       "      <td>625.000000</td>\n",
       "    </tr>\n",
       "    <tr>\n",
       "      <th>mean</th>\n",
       "      <td>3.000000</td>\n",
       "      <td>3.000000</td>\n",
       "      <td>3.000000</td>\n",
       "      <td>3.000000</td>\n",
       "    </tr>\n",
       "    <tr>\n",
       "      <th>std</th>\n",
       "      <td>1.415346</td>\n",
       "      <td>1.415346</td>\n",
       "      <td>1.415346</td>\n",
       "      <td>1.415346</td>\n",
       "    </tr>\n",
       "    <tr>\n",
       "      <th>min</th>\n",
       "      <td>1.000000</td>\n",
       "      <td>1.000000</td>\n",
       "      <td>1.000000</td>\n",
       "      <td>1.000000</td>\n",
       "    </tr>\n",
       "    <tr>\n",
       "      <th>25%</th>\n",
       "      <td>2.000000</td>\n",
       "      <td>2.000000</td>\n",
       "      <td>2.000000</td>\n",
       "      <td>2.000000</td>\n",
       "    </tr>\n",
       "    <tr>\n",
       "      <th>50%</th>\n",
       "      <td>3.000000</td>\n",
       "      <td>3.000000</td>\n",
       "      <td>3.000000</td>\n",
       "      <td>3.000000</td>\n",
       "    </tr>\n",
       "    <tr>\n",
       "      <th>75%</th>\n",
       "      <td>4.000000</td>\n",
       "      <td>4.000000</td>\n",
       "      <td>4.000000</td>\n",
       "      <td>4.000000</td>\n",
       "    </tr>\n",
       "    <tr>\n",
       "      <th>max</th>\n",
       "      <td>5.000000</td>\n",
       "      <td>5.000000</td>\n",
       "      <td>5.000000</td>\n",
       "      <td>5.000000</td>\n",
       "    </tr>\n",
       "  </tbody>\n",
       "</table>\n",
       "</div>"
      ],
      "text/plain": [
       "       Left Weight  Left Distance  Right Weight  Right Distance\n",
       "count   625.000000     625.000000    625.000000      625.000000\n",
       "mean      3.000000       3.000000      3.000000        3.000000\n",
       "std       1.415346       1.415346      1.415346        1.415346\n",
       "min       1.000000       1.000000      1.000000        1.000000\n",
       "25%       2.000000       2.000000      2.000000        2.000000\n",
       "50%       3.000000       3.000000      3.000000        3.000000\n",
       "75%       4.000000       4.000000      4.000000        4.000000\n",
       "max       5.000000       5.000000      5.000000        5.000000"
      ]
     },
     "execution_count": 27,
     "metadata": {},
     "output_type": "execute_result"
    }
   ],
   "source": [
    "df.describe()\n"
   ]
  },
  {
   "cell_type": "code",
   "execution_count": 107,
   "metadata": {},
   "outputs": [
    {
     "name": "stdout",
     "output_type": "stream",
     "text": [
      "<class 'pandas.core.frame.DataFrame'>\n",
      "RangeIndex: 625 entries, 0 to 624\n",
      "Data columns (total 5 columns):\n",
      "Class Name        625 non-null object\n",
      "Left Weight       625 non-null int64\n",
      "Left Distance     625 non-null int64\n",
      "Right Weight      625 non-null int64\n",
      "Right Distance    625 non-null int64\n",
      "dtypes: int64(4), object(1)\n",
      "memory usage: 22.0+ KB\n"
     ]
    },
    {
     "data": {
      "text/plain": [
       "array([[-1.41421356, -1.41421356, -1.41421356, -1.41421356],\n",
       "       [-1.41421356, -1.41421356, -1.41421356, -0.70710678],\n",
       "       [-1.41421356, -1.41421356, -1.41421356,  0.        ],\n",
       "       ..., \n",
       "       [ 1.41421356,  1.41421356,  1.41421356,  0.        ],\n",
       "       [ 1.41421356,  1.41421356,  1.41421356,  0.70710678],\n",
       "       [ 1.41421356,  1.41421356,  1.41421356,  1.41421356]])"
      ]
     },
     "execution_count": 107,
     "metadata": {},
     "output_type": "execute_result"
    }
   ],
   "source": [
    "df.info()\n",
    "from sklearn import preprocessing\n",
    "scaled_X = preprocessing.scale(X)\n",
    "scaled_X"
   ]
  },
  {
   "cell_type": "code",
   "execution_count": null,
   "metadata": {},
   "outputs": [],
   "source": []
  },
  {
   "cell_type": "code",
   "execution_count": 7,
   "metadata": {
    "collapsed": true
   },
   "outputs": [],
   "source": []
  },
  {
   "cell_type": "code",
   "execution_count": 8,
   "metadata": {
    "collapsed": true
   },
   "outputs": [],
   "source": []
  },
  {
   "cell_type": "code",
   "execution_count": 80,
   "metadata": {},
   "outputs": [
    {
     "name": "stdout",
     "output_type": "stream",
     "text": [
      "('Accuracy : ', 76.989247311827953)\n",
      "('F1-Weighted : ', 77.084448419383804)\n"
     ]
    }
   ],
   "source": [
    "from sklearn.tree import DecisionTreeClassifier\n",
    "#dt = DecisionTreeClassifier( max_leaf_nodes=100,max_depth=20)\n",
    "dt = DecisionTreeClassifier( max_leaf_nodes=100)\n",
    "\n",
    "kfold = model_selection.KFold(n_splits=10, random_state=89)\n",
    "results = model_selection.cross_val_score(dt,scaled_X, y, cv=kfold, scoring='accuracy')\n",
    "results1 = model_selection.cross_val_score(dt,scaled_X, y, cv=kfold, scoring='f1_weighted')\n",
    "\n",
    "print('Accuracy : ',results.mean()*100)\n",
    "print('F1-Weighted : ',results1.mean()*100)\n"
   ]
  },
  {
   "cell_type": "code",
   "execution_count": 91,
   "metadata": {},
   "outputs": [
    {
     "name": "stdout",
     "output_type": "stream",
     "text": [
      "('Accuracy : ', 86.899641577060933)\n",
      "('F1-Weighted : ', 84.391482871564861)\n"
     ]
    }
   ],
   "source": [
    "from sklearn.linear_model import Perceptron\n",
    "#p = Perceptron(penalty='l2', alpha=0.0001,class_weight='balanced')\n",
    "p = Perceptron(penalty='l2', alpha=0.0001)\n",
    "\n",
    "kfold = model_selection.KFold(n_splits=10, random_state=89)\n",
    "results = model_selection.cross_val_score(p,scaled_X, y, cv=kfold, scoring='accuracy')\n",
    "results1 = model_selection.cross_val_score(p,scaled_X, y, cv=kfold, scoring='f1_weighted')\n",
    "\n",
    "print('Accuracy : ',results.mean()*100)\n",
    "print('F1-Weighted : ',results1.mean()*100)"
   ]
  },
  {
   "cell_type": "code",
   "execution_count": 70,
   "metadata": {},
   "outputs": [
    {
     "name": "stdout",
     "output_type": "stream",
     "text": [
      "('Accuracy : ', 94.887352790578589)\n",
      "('F1-Weighted : ', 97.083616632844524)\n"
     ]
    }
   ],
   "source": [
    "from sklearn.neural_network import MLPClassifier\n",
    "ann = MLPClassifier(hidden_layer_sizes=(30,10),activation='tanh',learning_rate_init=0.001,solver='lbfgs',max_iter=100)\n",
    "#ann = MLPClassifier()\n",
    "\n",
    "kfold = model_selection.KFold(n_splits=10, random_state=89)\n",
    "results = model_selection.cross_val_score(ann,scaled_X, y, cv=kfold, scoring='accuracy')\n",
    "results1 = model_selection.cross_val_score(ann,scaled_X, y, cv=kfold, scoring='f1_weighted')\n",
    "\n",
    "print('Accuracy : ',results.mean()*100)\n",
    "print('F1-Weighted : ',results1.mean()*100)"
   ]
  },
  {
   "cell_type": "code",
   "execution_count": 83,
   "metadata": {},
   "outputs": [
    {
     "name": "stdout",
     "output_type": "stream",
     "text": [
      "('Accuracy : ', 95.847414234511007)\n",
      "('F1-Weighted : ', 97.152288435583301)\n"
     ]
    }
   ],
   "source": [
    "#dnn = MLPClassifier(hidden_layer_sizes=(30,30,20,20,10,10,5),activation='relu',learning_rate_init=0.01,solver='lbfgs',max_iter=100)\n",
    "dnn = MLPClassifier(hidden_layer_sizes=(20,20,20,20,20,20,20),activation='relu',learning_rate_init=0.01,solver='lbfgs')\n",
    "\n",
    "kfold = model_selection.KFold(n_splits=10, random_state=1234)\n",
    "results = model_selection.cross_val_score(dnn,scaled_X, y, cv=kfold, scoring='accuracy')\n",
    "results1 = model_selection.cross_val_score(dnn,scaled_X, y, cv=kfold, scoring='f1_weighted')\n",
    "\n",
    "print('Accuracy : ',results.mean()*100)\n",
    "print('F1-Weighted : ',results1.mean()*100)"
   ]
  },
  {
   "cell_type": "code",
   "execution_count": 84,
   "metadata": {},
   "outputs": [
    {
     "name": "stdout",
     "output_type": "stream",
     "text": [
      "('Accuracy : ', 91.687147977470545)\n",
      "('F1-Weighted : ', 92.403530885741574)\n"
     ]
    }
   ],
   "source": [
    "from sklearn.svm import SVC\n",
    "#svm = SVC(C=1,kernel='linear',tol=0.001,cache_size=200,degree=8)\n",
    "svm = SVC(C=1,kernel='linear')\n",
    "\n",
    "#svm = SVC()\n",
    "\n",
    "kfold = model_selection.KFold(n_splits=10, random_state=1234)\n",
    "results = model_selection.cross_val_score(svm,scaled_X, y, cv=kfold, scoring='accuracy')\n",
    "results1 = model_selection.cross_val_score(svm,scaled_X, y, cv=kfold, scoring='f1_weighted')\n",
    "\n",
    "print('Accuracy : ',results.mean()*100)\n",
    "print('F1-Weighted : ',results1.mean()*100)"
   ]
  },
  {
   "cell_type": "code",
   "execution_count": 73,
   "metadata": {},
   "outputs": [
    {
     "name": "stdout",
     "output_type": "stream",
     "text": [
      "('Accuracy : ', 87.846902201740917)\n",
      "('F1-Weighted : ', 85.233587562992454)\n"
     ]
    }
   ],
   "source": [
    "from sklearn.naive_bayes import GaussianNB\n",
    "nb = GaussianNB()\n",
    "kfold = model_selection.KFold(n_splits=10, random_state=1234)\n",
    "results = model_selection.cross_val_score(nb,scaled_X, y, cv=kfold, scoring='accuracy')\n",
    "results1 = model_selection.cross_val_score(nb,scaled_X, y, cv=kfold, scoring='f1_weighted')\n",
    "\n",
    "print('Accuracy : ',results.mean()*100)\n",
    "print('F1-Weighted : ',results1.mean()*100)"
   ]
  },
  {
   "cell_type": "code",
   "execution_count": 74,
   "metadata": {},
   "outputs": [
    {
     "name": "stdout",
     "output_type": "stream",
     "text": [
      "('Accuracy : ', 85.768049155145931)\n",
      "('F1-Weighted : ', 82.891613377285495)\n"
     ]
    }
   ],
   "source": [
    "from sklearn.linear_model import LogisticRegression\n",
    "#lr = LogisticRegression()\n",
    "\n",
    "lr = LogisticRegression(penalty='l2',   C=0.5,  solver='sag', max_iter=100)\n",
    "kfold = model_selection.KFold(n_splits=10, random_state=1234)\n",
    "results = model_selection.cross_val_score(lr,scaled_X, y, cv=kfold, scoring='accuracy')\n",
    "results1 = model_selection.cross_val_score(lr,scaled_X, y, cv=kfold, scoring='f1_weighted')\n",
    "\n",
    "print('Accuracy : ',results.mean()*100)\n",
    "print('F1-Weighted : ',results1.mean()*100)"
   ]
  },
  {
   "cell_type": "code",
   "execution_count": 75,
   "metadata": {},
   "outputs": [
    {
     "name": "stdout",
     "output_type": "stream",
     "text": [
      "('Accuracy : ', 87.703533026113661)\n",
      "('F1-Weighted : ', 84.947902118168201)\n"
     ]
    }
   ],
   "source": [
    "from sklearn.neighbors import KNeighborsClassifier\n",
    "knn = KNeighborsClassifier(n_neighbors=15,algorithm='kd_tree',weights='distance',leaf_size=15)\n",
    "#knn = KNeighborsClassifier()\n",
    "\n",
    "kfold = model_selection.KFold(n_splits=10, random_state=1234)\n",
    "results = model_selection.cross_val_score(knn,scaled_X, y, cv=kfold, scoring='accuracy')\n",
    "results1 = model_selection.cross_val_score(knn,scaled_X, y, cv=kfold, scoring='f1_weighted')\n",
    "\n",
    "print('Accuracy : ',results.mean()*100)\n",
    "print('F1-Weighted : ',results1.mean()*100)"
   ]
  },
  {
   "cell_type": "code",
   "execution_count": 87,
   "metadata": {},
   "outputs": [
    {
     "name": "stdout",
     "output_type": "stream",
     "text": [
      "('Accuracy : ', 79.866871479774701)\n",
      "('F1-Weighted : ', 80.746188740729991)\n"
     ]
    }
   ],
   "source": [
    "from sklearn.ensemble import BaggingClassifier\n",
    "#bc = BaggingClassifier(max_features=2,max_samples=500 ,bootstrap_features=False,bootstrap=False  )\n",
    "#bc = BaggingClassifier()\n",
    "bc=BaggingClassifier(n_estimators=50,bootstrap=True,bootstrap_features=False)\n",
    "kfold = model_selection.KFold(n_splits=10, random_state=1234)\n",
    "results = model_selection.cross_val_score(bc,scaled_X, y, cv=kfold, scoring='accuracy')\n",
    "results1 = model_selection.cross_val_score(bc,scaled_X, y, cv=kfold, scoring='f1_weighted')\n",
    "\n",
    "print('Accuracy : ',results.mean()*100)\n",
    "print('F1-Weighted : ',results1.mean()*100)"
   ]
  },
  {
   "cell_type": "code",
   "execution_count": 86,
   "metadata": {},
   "outputs": [
    {
     "name": "stdout",
     "output_type": "stream",
     "text": [
      "('Accuracy : ', 82.096774193548384)\n",
      "('F1-Weighted : ', 80.516394937265673)\n"
     ]
    }
   ],
   "source": [
    "from sklearn.ensemble import RandomForestClassifier\n",
    "#rf = RandomForestClassifier()\n",
    "\n",
    "\n",
    "#rf = RandomForestClassifier(n_estimators=30,bootstrap=True,max_features=2,max_depth =10)\n",
    "rf=RandomForestClassifier(n_estimators=30,bootstrap=True,max_features=2,max_depth =10)\n",
    "kfold = model_selection.KFold(n_splits=10, random_state=1234)\n",
    "results = model_selection.cross_val_score(rf,scaled_X, y, cv=kfold, scoring='accuracy')\n",
    "results1 = model_selection.cross_val_score(rf,scaled_X, y, cv=kfold, scoring='f1_weighted')\n",
    "\n",
    "print('Accuracy : ',results.mean()*100)\n",
    "print('F1-Weighted : ',results1.mean()*100)"
   ]
  },
  {
   "cell_type": "code",
   "execution_count": 78,
   "metadata": {},
   "outputs": [
    {
     "name": "stdout",
     "output_type": "stream",
     "text": [
      "('Accuracy : ', 91.200716845878134)\n",
      "('F1-Weighted : ', 92.86603656597822)\n"
     ]
    }
   ],
   "source": [
    "from sklearn.ensemble import AdaBoostClassifier\n",
    "#abc = AdaBoostClassifier()\n",
    "\n",
    "abc = AdaBoostClassifier(n_estimators=100,algorithm='SAMME.R')\n",
    "kfold = model_selection.KFold(n_splits=10, random_state=1234)\n",
    "results = model_selection.cross_val_score(abc,scaled_X, y, cv=kfold, scoring='accuracy')\n",
    "results1 = model_selection.cross_val_score(abc,scaled_X, y, cv=kfold, scoring='f1_weighted')\n",
    "\n",
    "print('Accuracy : ',results.mean()*100)\n",
    "print('F1-Weighted : ',results1.mean()*100)"
   ]
  },
  {
   "cell_type": "code",
   "execution_count": 88,
   "metadata": {},
   "outputs": [
    {
     "name": "stdout",
     "output_type": "stream",
     "text": [
      "('Accuracy : ', 87.703533026113661)\n",
      "('F1-Weighted : ', 85.58794772704772)\n"
     ]
    }
   ],
   "source": [
    "from sklearn.ensemble import GradientBoostingClassifier\n",
    "#gbc = GradientBoostingClassifier()\n",
    "\n",
    "#gbc = GradientBoostingClassifier(learning_rate=0.001,max_depth=5,random_state=2,max_features='sqrt')\n",
    "gbc = GradientBoostingClassifier(n_estimators=200,max_depth=3)\n",
    "\n",
    "kfold = model_selection.KFold(n_splits=10, random_state=1234)\n",
    "results = model_selection.cross_val_score(gbc,scaled_X, y, cv=kfold, scoring='accuracy')\n",
    "results1 = model_selection.cross_val_score(gbc,scaled_X, y, cv=kfold, scoring='f1_weighted')\n",
    "\n",
    "print('Accuracy : ',results.mean()*100)\n",
    "print('F1-Weighted : ',results1.mean()*100)"
   ]
  },
  {
   "cell_type": "code",
   "execution_count": 118,
   "metadata": {},
   "outputs": [
    {
     "name": "stdout",
     "output_type": "stream",
     "text": [
      "|    Decision Tree     |  Accuracy : 76.9867% | F1-Weighted : 77.26694% |\n",
      "|      Perceptron      |  Accuracy : 86.8996% | F1-Weighted : 84.39148% |\n",
      "|    Neuron Network    |  Accuracy : 95.0256% | F1-Weighted : 96.12438% |\n",
      "|    Deep Learning     |  Accuracy : 97.9186% | F1-Weighted : 96.94875% |\n",
      "|         SVM          |  Accuracy : 91.6871% | F1-Weighted : 92.40353% |\n",
      "|     Gaussian NB      |  Accuracy : 87.8469% | F1-Weighted : 85.23359% |\n",
      "|  LogisticRegression  |  Accuracy : 85.7680% | F1-Weighted : 82.89161% |\n",
      "| KNeighborsClassifier |  Accuracy : 87.7035% | F1-Weighted : 84.94790% |\n",
      "|  BaggingClassifier   |  Accuracy : 79.7056% | F1-Weighted : 81.57084% |\n",
      "| RandomForestClassifier |  Accuracy : 81.1418% | F1-Weighted : 81.19001% |\n",
      "|  AdaBoostClassifier  |  Accuracy : 91.2007% | F1-Weighted : 92.39975% |\n",
      "| GradientBoostingClassifier |  Accuracy : 87.7035% | F1-Weighted : 85.70886% |\n"
     ]
    }
   ],
   "source": [
    "models=[(dt,'Decision Tree'),(p,'Perceptron'),(ann,'Neuron Network'),(dnn,'Deep Learning'),(svm,'SVM'),(nb,'Gaussian NB'),(lr,'LogisticRegression'),(knn,'KNeighborsClassifier'),(bc,'BaggingClassifier'),(rf,'RandomForestClassifier'),(abc,'AdaBoostClassifier'),(gbc,'GradientBoostingClassifier')]\n",
    "for model,name in models:\n",
    "    kfold = model_selection.KFold(n_splits=10, random_state=1234)\n",
    "    kfold.get_n_splits(X)\n",
    "    results = model_selection.cross_val_score(model,scaled_X, y, cv=kfold, scoring='accuracy')\n",
    "    results1 = model_selection.cross_val_score(model,scaled_X, y, cv=kfold, scoring='f1_weighted')\n",
    "    print('| {:^20} |  Accuracy : {:0.4f}% | F1-Weighted : {:0.5f}% |'.format(name, results.mean()*100, results1.mean()*100))\n",
    "   \n",
    "  "
   ]
  },
  {
   "cell_type": "code",
   "execution_count": null,
   "metadata": {},
   "outputs": [],
   "source": []
  },
  {
   "cell_type": "code",
   "execution_count": null,
   "metadata": {
    "collapsed": true
   },
   "outputs": [],
   "source": []
  }
 ],
 "metadata": {
  "kernelspec": {
   "display_name": "Python 2",
   "language": "python",
   "name": "python2"
  },
  "language_info": {
   "codemirror_mode": {
    "name": "ipython",
    "version": 2
   },
   "file_extension": ".py",
   "mimetype": "text/x-python",
   "name": "python",
   "nbconvert_exporter": "python",
   "pygments_lexer": "ipython2",
   "version": "2.7.13"
  }
 },
 "nbformat": 4,
 "nbformat_minor": 2
}
